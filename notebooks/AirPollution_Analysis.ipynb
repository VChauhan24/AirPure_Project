{
 "cells": [
  {
   "cell_type": "code",
   "execution_count": 1,
   "id": "77ca7ea9",
   "metadata": {},
   "outputs": [],
   "source": [
    "import pandas as pd"
   ]
  },
  {
   "cell_type": "code",
   "execution_count": 2,
   "id": "5f184a16",
   "metadata": {},
   "outputs": [],
   "source": [
    "df = pd.read_csv(\"../data/aqi.csv\")"
   ]
  },
  {
   "cell_type": "code",
   "execution_count": 3,
   "id": "aad9d5ed",
   "metadata": {},
   "outputs": [
    {
     "name": "stdout",
     "output_type": "stream",
     "text": [
      "         date           state      area  number_of_monitoring_stations  \\\n",
      "0  30-04-2025     Maharashtra  Amravati                              2   \n",
      "1  30-04-2025           Bihar    Purnia                              1   \n",
      "2  30-04-2025  Madhya Pradesh     Katni                              1   \n",
      "3  30-04-2025    Chhattisgarh   Tumidih                              1   \n",
      "4  30-04-2025           Assam  Byrnihat                              1   \n",
      "\n",
      "  prominent_pollutants  aqi_value air_quality_status  \\\n",
      "0                 PM10         78       Satisfactory   \n",
      "1                   CO         56       Satisfactory   \n",
      "2                   O3         98       Satisfactory   \n",
      "3                 PM10        103           Moderate   \n",
      "4                PM2.5         61       Satisfactory   \n",
      "\n",
      "                                                unit  note  \n",
      "0  number_of_monitoring_stations in Absolute Numb...   NaN  \n",
      "1  number_of_monitoring_stations in Absolute Numb...   NaN  \n",
      "2  number_of_monitoring_stations in Absolute Numb...   NaN  \n",
      "3  number_of_monitoring_stations in Absolute Numb...   NaN  \n",
      "4  number_of_monitoring_stations in Absolute Numb...   NaN  \n"
     ]
    }
   ],
   "source": [
    "print(df.head())"
   ]
  },
  {
   "cell_type": "code",
   "execution_count": 4,
   "id": "4020483a",
   "metadata": {},
   "outputs": [
    {
     "name": "stdout",
     "output_type": "stream",
     "text": [
      "\n",
      "--- Dataset Info ---\n",
      "<class 'pandas.core.frame.DataFrame'>\n",
      "RangeIndex: 235785 entries, 0 to 235784\n",
      "Data columns (total 9 columns):\n",
      " #   Column                         Non-Null Count   Dtype  \n",
      "---  ------                         --------------   -----  \n",
      " 0   date                           235785 non-null  object \n",
      " 1   state                          235785 non-null  object \n",
      " 2   area                           235785 non-null  object \n",
      " 3   number_of_monitoring_stations  235785 non-null  int64  \n",
      " 4   prominent_pollutants           235785 non-null  object \n",
      " 5   aqi_value                      235785 non-null  int64  \n",
      " 6   air_quality_status             235785 non-null  object \n",
      " 7   unit                           235785 non-null  object \n",
      " 8   note                           0 non-null       float64\n",
      "dtypes: float64(1), int64(2), object(6)\n",
      "memory usage: 16.2+ MB\n",
      "None\n"
     ]
    }
   ],
   "source": [
    "print(\"\\n--- Dataset Info ---\")\n",
    "print(df.info())"
   ]
  },
  {
   "cell_type": "code",
   "execution_count": 5,
   "id": "df2faab7",
   "metadata": {},
   "outputs": [
    {
     "name": "stdout",
     "output_type": "stream",
     "text": [
      "\n",
      "--- Column Names ---\n",
      "Index(['date', 'state', 'area', 'number_of_monitoring_stations',\n",
      "       'prominent_pollutants', 'aqi_value', 'air_quality_status', 'unit',\n",
      "       'note'],\n",
      "      dtype='object')\n"
     ]
    }
   ],
   "source": [
    "print(\"\\n--- Column Names ---\")\n",
    "print(df.columns)"
   ]
  },
  {
   "cell_type": "code",
   "execution_count": 6,
   "id": "952959d6",
   "metadata": {},
   "outputs": [],
   "source": [
    "df = pd.read_csv(\"../data/aqi.csv\")"
   ]
  },
  {
   "cell_type": "code",
   "execution_count": 7,
   "id": "45038187",
   "metadata": {},
   "outputs": [],
   "source": [
    "df['date'] = pd.to_datetime(df['date'], dayfirst=True)\n"
   ]
  },
  {
   "cell_type": "code",
   "execution_count": 8,
   "id": "c8846286",
   "metadata": {},
   "outputs": [],
   "source": [
    "mask = (df['date'] >= \"2024-12-01\") & (df['date'] <= \"2025-05-31\")\n",
    "df_filtered = df[mask]"
   ]
  },
  {
   "cell_type": "code",
   "execution_count": 9,
   "id": "7ae254da",
   "metadata": {},
   "outputs": [],
   "source": [
    "df_filtered = df_filtered.dropna(subset=['aqi_value'])"
   ]
  },
  {
   "cell_type": "code",
   "execution_count": 10,
   "id": "723900ed",
   "metadata": {},
   "outputs": [],
   "source": [
    "area_avg_aqi = df_filtered.groupby('area')['aqi_value'].mean().reset_index()\n"
   ]
  },
  {
   "cell_type": "code",
   "execution_count": 11,
   "id": "592373df",
   "metadata": {},
   "outputs": [],
   "source": [
    "top_5 = area_avg_aqi.sort_values(by='aqi_value', ascending=False).head(5)\n",
    "bottom_5 = area_avg_aqi.sort_values(by='aqi_value', ascending=True).head(5)"
   ]
  },
  {
   "cell_type": "code",
   "execution_count": 12,
   "id": "1bcc592f",
   "metadata": {},
   "outputs": [
    {
     "name": "stdout",
     "output_type": "stream",
     "text": [
      "🔺 Top 5 Areas (Most Polluted):\n",
      "            area   aqi_value\n",
      "60      Byrnihat  284.194915\n",
      "81         Delhi  238.920000\n",
      "106      Hajipur  233.666667\n",
      "24   Bahadurgarh  226.437500\n",
      "103     Gurugram  204.143836\n",
      "\n",
      "🔻 Bottom 5 Areas (Least Polluted):\n",
      "               area  aqi_value\n",
      "263     Tirunelveli  33.310078\n",
      "200   Palkalaiperur  42.794872\n",
      "163        Madikeri  42.951049\n",
      "277      Vijayapura  44.328767\n",
      "61   Chamarajanagar  44.807692\n"
     ]
    }
   ],
   "source": [
    "print(\"🔺 Top 5 Areas (Most Polluted):\")\n",
    "print(top_5)\n",
    "\n",
    "print(\"\\n🔻 Bottom 5 Areas (Least Polluted):\")\n",
    "print(bottom_5)"
   ]
  },
  {
   "cell_type": "code",
   "execution_count": 13,
   "id": "dd79847e",
   "metadata": {},
   "outputs": [],
   "source": [
    "top_5.to_csv(\"q1_top_5_polluted_areas.csv\", index=False)\n",
    "bottom_5.to_csv(\"q1_bottom_5_cleanest_areas.csv\", index=False)\n"
   ]
  },
  {
   "cell_type": "code",
   "execution_count": 14,
   "id": "1462de89",
   "metadata": {},
   "outputs": [
    {
     "name": "stderr",
     "output_type": "stream",
     "text": [
      "C:\\Users\\ASUS\\AppData\\Local\\Temp\\ipykernel_13540\\3490470374.py:8: FutureWarning: \n",
      "\n",
      "Passing `palette` without assigning `hue` is deprecated and will be removed in v0.14.0. Assign the `y` variable to `hue` and set `legend=False` for the same effect.\n",
      "\n",
      "  sns.barplot(data=top_5, x=\"aqi_value\", y=\"area\", palette=\"Reds_r\")\n",
      "C:\\Users\\ASUS\\AppData\\Local\\Temp\\ipykernel_13540\\3490470374.py:15: FutureWarning: \n",
      "\n",
      "Passing `palette` without assigning `hue` is deprecated and will be removed in v0.14.0. Assign the `y` variable to `hue` and set `legend=False` for the same effect.\n",
      "\n",
      "  sns.barplot(data=bottom_5, x=\"aqi_value\", y=\"area\", palette=\"Greens\")\n"
     ]
    },
    {
     "data": {
      "image/png": "[encoded data removed]",
      "text/plain": [
       "<Figure size 1200x600 with 2 Axes>"
      ]
     },
     "metadata": {},
     "output_type": "display_data"
    }
   ],
   "source": [
    "import matplotlib.pyplot as plt\n",
    "import seaborn as sns\n",
    "\n",
    "plt.figure(figsize=(12, 6))\n",
    "\n",
    "# Top 5\n",
    "plt.subplot(1, 2, 1)\n",
    "sns.barplot(data=top_5, x=\"aqi_value\", y=\"area\", palette=\"Reds_r\")\n",
    "plt.title(\"Top 5 Most Polluted Areas\")\n",
    "plt.xlabel(\"AQI Value\")\n",
    "plt.ylabel(\"Area\")\n",
    "\n",
    "# Bottom 5\n",
    "plt.subplot(1, 2, 2)\n",
    "sns.barplot(data=bottom_5, x=\"aqi_value\", y=\"area\", palette=\"Greens\")\n",
    "plt.title(\"Top 5 Least Polluted Areas\")\n",
    "plt.xlabel(\"AQI Value\")\n",
    "plt.ylabel(\"\")\n",
    "\n",
    "plt.tight_layout()\n",
    "\n",
    "plt.show()\n"
   ]
  },
  {
   "cell_type": "code",
   "execution_count": 15,
   "id": "9b28c11c",
   "metadata": {},
   "outputs": [],
   "source": [
    "southern_states = ['Andhra Pradesh', 'Telangana', 'Karnataka', 'Kerala', 'Tamil Nadu', 'Puducherry']"
   ]
  },
  {
   "cell_type": "code",
   "execution_count": 16,
   "id": "9ac865f8",
   "metadata": {},
   "outputs": [],
   "source": [
    "df_filtered = df[\n",
    "    (df['state'].isin(southern_states)) &\n",
    "    (df['date'] >= '2022-01-01')\n",
    "]"
   ]
  },
  {
   "cell_type": "code",
   "execution_count": 17,
   "id": "c0c127c1",
   "metadata": {},
   "outputs": [],
   "source": [
    "df_filtered = df_filtered.dropna(subset=['prominent_pollutants'])"
   ]
  },
  {
   "cell_type": "code",
   "execution_count": 18,
   "id": "d6363b17",
   "metadata": {},
   "outputs": [],
   "source": [
    "df_exploded = df_filtered.copy()\n",
    "df_exploded['prominent_pollutants'] = df_exploded['prominent_pollutants'].str.split(', ')\n",
    "df_exploded = df_exploded.explode('prominent_pollutants')"
   ]
  },
  {
   "cell_type": "code",
   "execution_count": 19,
   "id": "8a4cb6e4",
   "metadata": {},
   "outputs": [],
   "source": [
    "pollutant_counts = df_exploded.groupby(['state', 'prominent_pollutants']).size().reset_index(name='count')\n"
   ]
  },
  {
   "cell_type": "code",
   "execution_count": 20,
   "id": "090e6193",
   "metadata": {},
   "outputs": [
    {
     "name": "stderr",
     "output_type": "stream",
     "text": [
      "C:\\Users\\ASUS\\AppData\\Local\\Temp\\ipykernel_13540\\3053846970.py:1: DeprecationWarning: DataFrameGroupBy.apply operated on the grouping columns. This behavior is deprecated, and in a future version of pandas the grouping columns will be excluded from the operation. Either pass `include_groups=False` to exclude the groupings or explicitly select the grouping columns after groupby to silence this warning.\n",
      "  top_bottom_pollutants = pollutant_counts.groupby('state').apply(\n"
     ]
    },
    {
     "data": {
      "text/html": [
       "<div>\n",
       "<style scoped>\n",
       "    .dataframe tbody tr th:only-of-type {\n",
       "        vertical-align: middle;\n",
       "    }\n",
       "\n",
       "    .dataframe tbody tr th {\n",
       "        vertical-align: top;\n",
       "    }\n",
       "\n",
       "    .dataframe thead th {\n",
       "        text-align: right;\n",
       "    }\n",
       "</style>\n",
       "<table border=\"1\" class=\"dataframe\">\n",
       "  <thead>\n",
       "    <tr style=\"text-align: right;\">\n",
       "      <th></th>\n",
       "      <th>state</th>\n",
       "      <th>prominent_pollutants</th>\n",
       "      <th>count</th>\n",
       "    </tr>\n",
       "  </thead>\n",
       "  <tbody>\n",
       "    <tr>\n",
       "      <th>0</th>\n",
       "      <td>Andhra Pradesh</td>\n",
       "      <td>PM10</td>\n",
       "      <td>3182</td>\n",
       "    </tr>\n",
       "    <tr>\n",
       "      <th>1</th>\n",
       "      <td>Andhra Pradesh</td>\n",
       "      <td>PM2.5</td>\n",
       "      <td>1757</td>\n",
       "    </tr>\n",
       "    <tr>\n",
       "      <th>2</th>\n",
       "      <td>Andhra Pradesh</td>\n",
       "      <td>PM10,NO2,O3</td>\n",
       "      <td>1</td>\n",
       "    </tr>\n",
       "    <tr>\n",
       "      <th>3</th>\n",
       "      <td>Andhra Pradesh</td>\n",
       "      <td>PM10,NO2,PM2.5,O3</td>\n",
       "      <td>1</td>\n",
       "    </tr>\n",
       "    <tr>\n",
       "      <th>4</th>\n",
       "      <td>Karnataka</td>\n",
       "      <td>PM10</td>\n",
       "      <td>13404</td>\n",
       "    </tr>\n",
       "    <tr>\n",
       "      <th>5</th>\n",
       "      <td>Karnataka</td>\n",
       "      <td>CO</td>\n",
       "      <td>2913</td>\n",
       "    </tr>\n",
       "    <tr>\n",
       "      <th>6</th>\n",
       "      <td>Karnataka</td>\n",
       "      <td>NO2,O3</td>\n",
       "      <td>1</td>\n",
       "    </tr>\n",
       "    <tr>\n",
       "      <th>7</th>\n",
       "      <td>Karnataka</td>\n",
       "      <td>NO2,SO2,CO</td>\n",
       "      <td>1</td>\n",
       "    </tr>\n",
       "    <tr>\n",
       "      <th>8</th>\n",
       "      <td>Kerala</td>\n",
       "      <td>PM10</td>\n",
       "      <td>3167</td>\n",
       "    </tr>\n",
       "    <tr>\n",
       "      <th>9</th>\n",
       "      <td>Kerala</td>\n",
       "      <td>PM2.5</td>\n",
       "      <td>1123</td>\n",
       "    </tr>\n",
       "    <tr>\n",
       "      <th>10</th>\n",
       "      <td>Kerala</td>\n",
       "      <td>CO,O3</td>\n",
       "      <td>6</td>\n",
       "    </tr>\n",
       "    <tr>\n",
       "      <th>11</th>\n",
       "      <td>Kerala</td>\n",
       "      <td>SO2</td>\n",
       "      <td>7</td>\n",
       "    </tr>\n",
       "    <tr>\n",
       "      <th>12</th>\n",
       "      <td>Puducherry</td>\n",
       "      <td>PM10</td>\n",
       "      <td>413</td>\n",
       "    </tr>\n",
       "    <tr>\n",
       "      <th>13</th>\n",
       "      <td>Puducherry</td>\n",
       "      <td>O3</td>\n",
       "      <td>303</td>\n",
       "    </tr>\n",
       "    <tr>\n",
       "      <th>14</th>\n",
       "      <td>Puducherry</td>\n",
       "      <td>CO</td>\n",
       "      <td>148</td>\n",
       "    </tr>\n",
       "    <tr>\n",
       "      <th>15</th>\n",
       "      <td>Puducherry</td>\n",
       "      <td>PM2.5</td>\n",
       "      <td>206</td>\n",
       "    </tr>\n",
       "    <tr>\n",
       "      <th>16</th>\n",
       "      <td>Tamil Nadu</td>\n",
       "      <td>PM10</td>\n",
       "      <td>6253</td>\n",
       "    </tr>\n",
       "    <tr>\n",
       "      <th>17</th>\n",
       "      <td>Tamil Nadu</td>\n",
       "      <td>PM2.5</td>\n",
       "      <td>2268</td>\n",
       "    </tr>\n",
       "    <tr>\n",
       "      <th>18</th>\n",
       "      <td>Tamil Nadu</td>\n",
       "      <td>PM10,NH3,CO</td>\n",
       "      <td>1</td>\n",
       "    </tr>\n",
       "    <tr>\n",
       "      <th>19</th>\n",
       "      <td>Tamil Nadu</td>\n",
       "      <td>PM10,NO2,PM2.5,O3</td>\n",
       "      <td>1</td>\n",
       "    </tr>\n",
       "    <tr>\n",
       "      <th>20</th>\n",
       "      <td>Telangana</td>\n",
       "      <td>PM2.5,PM10</td>\n",
       "      <td>343</td>\n",
       "    </tr>\n",
       "    <tr>\n",
       "      <th>21</th>\n",
       "      <td>Telangana</td>\n",
       "      <td>PM10</td>\n",
       "      <td>315</td>\n",
       "    </tr>\n",
       "    <tr>\n",
       "      <th>22</th>\n",
       "      <td>Telangana</td>\n",
       "      <td>CO,O3</td>\n",
       "      <td>1</td>\n",
       "    </tr>\n",
       "    <tr>\n",
       "      <th>23</th>\n",
       "      <td>Telangana</td>\n",
       "      <td>NO2</td>\n",
       "      <td>1</td>\n",
       "    </tr>\n",
       "  </tbody>\n",
       "</table>\n",
       "</div>"
      ],
      "text/plain": [
       "             state prominent_pollutants  count\n",
       "0   Andhra Pradesh                 PM10   3182\n",
       "1   Andhra Pradesh                PM2.5   1757\n",
       "2   Andhra Pradesh          PM10,NO2,O3      1\n",
       "3   Andhra Pradesh    PM10,NO2,PM2.5,O3      1\n",
       "4        Karnataka                 PM10  13404\n",
       "5        Karnataka                   CO   2913\n",
       "6        Karnataka               NO2,O3      1\n",
       "7        Karnataka           NO2,SO2,CO      1\n",
       "8           Kerala                 PM10   3167\n",
       "9           Kerala                PM2.5   1123\n",
       "10          Kerala                CO,O3      6\n",
       "11          Kerala                  SO2      7\n",
       "12      Puducherry                 PM10    413\n",
       "13      Puducherry                   O3    303\n",
       "14      Puducherry                   CO    148\n",
       "15      Puducherry                PM2.5    206\n",
       "16      Tamil Nadu                 PM10   6253\n",
       "17      Tamil Nadu                PM2.5   2268\n",
       "18      Tamil Nadu          PM10,NH3,CO      1\n",
       "19      Tamil Nadu    PM10,NO2,PM2.5,O3      1\n",
       "20       Telangana           PM2.5,PM10    343\n",
       "21       Telangana                 PM10    315\n",
       "22       Telangana                CO,O3      1\n",
       "23       Telangana                  NO2      1"
      ]
     },
     "execution_count": 20,
     "metadata": {},
     "output_type": "execute_result"
    }
   ],
   "source": [
    "top_bottom_pollutants = pollutant_counts.groupby('state').apply(\n",
    "    lambda x: pd.concat([x.nlargest(2, 'count'), x.nsmallest(2, 'count')])\n",
    ").reset_index(drop=True)\n",
    "\n",
    "top_bottom_pollutants"
   ]
  },
  {
   "cell_type": "code",
   "execution_count": 21,
   "id": "03a1d3b7",
   "metadata": {},
   "outputs": [],
   "source": [
    "top_bottom_pollutants.to_csv(\"q2_top_bottom_pollutants_southern_states.csv\", index=False)\n"
   ]
  },
  {
   "cell_type": "code",
   "execution_count": 22,
   "id": "10e75616",
   "metadata": {},
   "outputs": [],
   "source": [
    "from datetime import datetime, timedelta\n",
    "one_year_ago = datetime.today() - timedelta(days=365)\n"
   ]
  },
  {
   "cell_type": "code",
   "execution_count": 23,
   "id": "06ae5b53",
   "metadata": {},
   "outputs": [],
   "source": [
    "last_year_df = df[df['date'] >= one_year_ago]\n"
   ]
  },
  {
   "cell_type": "code",
   "execution_count": 24,
   "id": "5f681ea4",
   "metadata": {},
   "outputs": [],
   "source": [
    "metro_cities = ['Delhi', 'Mumbai', 'Chennai', 'Kolkata', 'Bengaluru', 'Hyderabad', 'Ahmedabad', 'Pune']\n"
   ]
  },
  {
   "cell_type": "code",
   "execution_count": 25,
   "id": "36c97a4a",
   "metadata": {},
   "outputs": [],
   "source": [
    "metro_df = df[df['area'].isin(metro_cities)].copy()\n"
   ]
  },
  {
   "cell_type": "code",
   "execution_count": 26,
   "id": "2da86e89",
   "metadata": {},
   "outputs": [],
   "source": [
    "metro_df.loc[:, 'day_of_week'] = metro_df['date'].dt.dayofweek\n"
   ]
  },
  {
   "cell_type": "code",
   "execution_count": 27,
   "id": "104b015d",
   "metadata": {},
   "outputs": [],
   "source": [
    "metro_df['day_type'] = metro_df['day_of_week'].apply(lambda x: 'Weekend' if x >= 5 else 'Weekday')\n"
   ]
  },
  {
   "cell_type": "code",
   "execution_count": 28,
   "id": "e1236b3e",
   "metadata": {},
   "outputs": [],
   "source": [
    "weekend_weekday_aqi = metro_df.groupby(['area', 'day_type'])['aqi_value'].mean().reset_index()\n"
   ]
  },
  {
   "cell_type": "code",
   "execution_count": 29,
   "id": "117cad5a",
   "metadata": {},
   "outputs": [],
   "source": [
    "metro_df.loc[:, 'day_of_week'] = metro_df['date'].dt.dayofweek\n"
   ]
  },
  {
   "cell_type": "code",
   "execution_count": 30,
   "id": "f2986652",
   "metadata": {},
   "outputs": [],
   "source": [
    "aqi_comparison = weekend_weekday_aqi.pivot(index='area', columns='day_type', values='aqi_value').reset_index()\n"
   ]
  },
  {
   "cell_type": "code",
   "execution_count": 31,
   "id": "f5e0c305",
   "metadata": {},
   "outputs": [],
   "source": [
    "aqi_comparison.to_csv('q3_weekday_vs_weekend_aqi.csv', index=False)\n"
   ]
  },
  {
   "cell_type": "code",
   "execution_count": 32,
   "id": "5138adc7",
   "metadata": {},
   "outputs": [
    {
     "name": "stdout",
     "output_type": "stream",
     "text": [
      "day_type       area     Weekday     Weekend\n",
      "0         Ahmedabad  113.685393  113.381250\n",
      "1         Bengaluru   75.511831   73.322981\n",
      "2           Chennai   74.434457   72.947205\n",
      "3             Delhi  206.373599  206.524845\n",
      "4         Hyderabad   80.895392   81.304348\n",
      "5           Kolkata  101.322540  103.788820\n",
      "6            Mumbai  105.728180  106.444099\n",
      "7              Pune  112.181159  111.444853\n"
     ]
    }
   ],
   "source": [
    "print(aqi_comparison)\n"
   ]
  },
  {
   "cell_type": "code",
   "execution_count": 33,
   "id": "0cdc5241",
   "metadata": {},
   "outputs": [],
   "source": [
    "aqi_comparison.to_csv('q3_weekday_vs_weekend_aqi.csv', index=False)\n"
   ]
  },
  {
   "cell_type": "code",
   "execution_count": 34,
   "id": "45b5d3f1",
   "metadata": {},
   "outputs": [
    {
     "name": "stdout",
     "output_type": "stream",
     "text": [
      "day_type       area     Weekday     Weekend\n",
      "0         Ahmedabad  113.685393  113.381250\n",
      "1         Bengaluru   75.511831   73.322981\n",
      "2           Chennai   74.434457   72.947205\n",
      "3             Delhi  206.373599  206.524845\n",
      "4         Hyderabad   80.895392   81.304348\n",
      "5           Kolkata  101.322540  103.788820\n",
      "6            Mumbai  105.728180  106.444099\n",
      "7              Pune  112.181159  111.444853\n"
     ]
    }
   ],
   "source": [
    "print(aqi_comparison)\n"
   ]
  },
  {
   "cell_type": "code",
   "execution_count": 35,
   "id": "562c4a8c",
   "metadata": {},
   "outputs": [],
   "source": [
    "weekend_weekday_aqi = metro_df.groupby(['area', 'day_type'])['aqi_value'].mean().reset_index()\n",
    "\n"
   ]
  },
  {
   "cell_type": "code",
   "execution_count": 36,
   "id": "6b90b2ee",
   "metadata": {},
   "outputs": [],
   "source": [
    "top_states = metro_df.groupby('state')['area'].nunique().sort_values(ascending=False).head(10).index\n"
   ]
  },
  {
   "cell_type": "code",
   "execution_count": 37,
   "id": "54410384",
   "metadata": {},
   "outputs": [],
   "source": [
    "top_states_df = metro_df[metro_df['state'].isin(top_states)]\n"
   ]
  },
  {
   "cell_type": "code",
   "execution_count": 38,
   "id": "255fd1be",
   "metadata": {},
   "outputs": [],
   "source": [
    "top_states_df['month'] = pd.to_datetime(top_states_df['date']).dt.month\n"
   ]
  },
  {
   "cell_type": "code",
   "execution_count": 39,
   "id": "4ec9ec01",
   "metadata": {},
   "outputs": [],
   "source": [
    "monthly_avg_aqi = top_states_df.groupby(['state', 'month'])['aqi_value'].mean().reset_index()\n"
   ]
  },
  {
   "cell_type": "code",
   "execution_count": 40,
   "id": "b064fc11",
   "metadata": {},
   "outputs": [],
   "source": [
    "monthly_avg_aqi.sort_values(['state', 'aqi_value'], ascending=[True, False], inplace=True)\n"
   ]
  },
  {
   "cell_type": "code",
   "execution_count": 41,
   "id": "b793de2f",
   "metadata": {},
   "outputs": [
    {
     "name": "stdout",
     "output_type": "stream",
     "text": [
      "          state  month   aqi_value\n",
      "10        Delhi     11  355.955556\n",
      "0         Delhi      1  323.945652\n",
      "11        Delhi     12  320.365591\n",
      "1         Delhi      2  223.105882\n",
      "9         Delhi     10  221.000000\n",
      "..          ...    ...         ...\n",
      "76  West Bengal      5   65.494624\n",
      "77  West Bengal      6   56.922222\n",
      "79  West Bengal      8   54.774194\n",
      "80  West Bengal      9   50.177778\n",
      "78  West Bengal      7   40.021505\n",
      "\n",
      "[84 rows x 3 columns]\n"
     ]
    }
   ],
   "source": [
    "print(monthly_avg_aqi)"
   ]
  },
  {
   "cell_type": "code",
   "execution_count": 42,
   "id": "22b97216",
   "metadata": {},
   "outputs": [],
   "source": [
    "worst_months_per_state = monthly_avg_aqi.loc[monthly_avg_aqi.groupby('state')['aqi_value'].idxmax()]\n"
   ]
  },
  {
   "cell_type": "code",
   "execution_count": 43,
   "id": "d0495b3f",
   "metadata": {},
   "outputs": [
    {
     "name": "stdout",
     "output_type": "stream",
     "text": [
      "          state  month   aqi_value\n",
      "10        Delhi     11  355.955556\n",
      "13      Gujarat      2  141.258824\n",
      "24    Karnataka      1   94.717391\n",
      "47  Maharashtra     12  158.113924\n",
      "48   Tamil Nadu      1  103.445652\n",
      "70    Telangana     11  101.744444\n",
      "72  West Bengal      1  208.141304\n"
     ]
    }
   ],
   "source": [
    "print(worst_months_per_state)"
   ]
  },
  {
   "cell_type": "code",
   "execution_count": 44,
   "id": "44167aaf",
   "metadata": {},
   "outputs": [],
   "source": [
    "monthly_avg_aqi.to_csv('q4_worst_air_quality_months.csv', index=False)\n"
   ]
  },
  {
   "cell_type": "code",
   "execution_count": 45,
   "id": "d67d07bf",
   "metadata": {},
   "outputs": [],
   "source": [
    "import pandas as pd\n"
   ]
  },
  {
   "cell_type": "code",
   "execution_count": 46,
   "id": "8c30acc2",
   "metadata": {},
   "outputs": [],
   "source": [
    "df = pd.read_csv(\"../data/aqi.csv\", parse_dates=['date'], dayfirst=True)\n"
   ]
  },
  {
   "cell_type": "code",
   "execution_count": 47,
   "id": "e86b0e02",
   "metadata": {},
   "outputs": [],
   "source": [
    "bengaluru_df = df[\n",
    "    (df['area'].str.lower() == 'bengaluru') & \n",
    "    (df['date'] >= '2025-03-01') & \n",
    "    (df['date'] <= '2025-05-31')]"
   ]
  },
  {
   "cell_type": "code",
   "execution_count": 48,
   "id": "209e2fe9",
   "metadata": {},
   "outputs": [
    {
     "name": "stderr",
     "output_type": "stream",
     "text": [
      "C:\\Users\\ASUS\\AppData\\Local\\Temp\\ipykernel_13540\\2945922334.py:18: SettingWithCopyWarning: \n",
      "A value is trying to be set on a copy of a slice from a DataFrame.\n",
      "Try using .loc[row_indexer,col_indexer] = value instead\n",
      "\n",
      "See the caveats in the documentation: https://pandas.pydata.org/pandas-docs/stable/user_guide/indexing.html#returning-a-view-versus-a-copy\n",
      "  bengaluru_df.loc[:, 'AQI_Category'] = bengaluru_df['aqi_value'].apply(get_category)\n"
     ]
    }
   ],
   "source": [
    "if 'category' in bengaluru_df.columns:\n",
    "    category_counts = bengaluru_df['category'].value_counts().reset_index()\n",
    "    category_counts.columns = ['AQI_Category', 'Days']\n",
    "else:\n",
    "    def get_category(aqi):\n",
    "        if aqi <= 50:\n",
    "            return 'Good'\n",
    "        elif aqi <= 100:\n",
    "            return 'Satisfactory'\n",
    "        elif aqi <= 200:\n",
    "            return 'Moderate'\n",
    "        elif aqi <= 300:\n",
    "            return 'Poor'\n",
    "        elif aqi <= 400:\n",
    "            return 'Very Poor'\n",
    "        else:\n",
    "            return 'Severe'\n",
    "    bengaluru_df.loc[:, 'AQI_Category'] = bengaluru_df['aqi_value'].apply(get_category)\n",
    "\n",
    "    category_counts = bengaluru_df['AQI_Category'].value_counts().reset_index()\n",
    "    category_counts.columns = ['AQI_Category', 'Days']"
   ]
  },
  {
   "cell_type": "code",
   "execution_count": 49,
   "id": "a6b5b8d3",
   "metadata": {},
   "outputs": [
    {
     "name": "stdout",
     "output_type": "stream",
     "text": [
      "   AQI_Category  Days\n",
      "0  Satisfactory    48\n",
      "1      Moderate    13\n"
     ]
    }
   ],
   "source": [
    "print(category_counts)\n"
   ]
  },
  {
   "cell_type": "code",
   "execution_count": 50,
   "id": "ee9e7a4a",
   "metadata": {},
   "outputs": [
    {
     "name": "stderr",
     "output_type": "stream",
     "text": [
      "C:\\Users\\ASUS\\AppData\\Local\\Temp\\ipykernel_13540\\4258412177.py:4: FutureWarning: \n",
      "\n",
      "Passing `palette` without assigning `hue` is deprecated and will be removed in v0.14.0. Assign the `x` variable to `hue` and set `legend=False` for the same effect.\n",
      "\n",
      "  sns.barplot(data=category_counts, x='AQI_Category', y='Days', palette='coolwarm')\n"
     ]
    },
    {
     "data": {
      "image/png": "[encoded data removed]",
      "text/plain": [
       "<Figure size 640x480 with 1 Axes>"
      ]
     },
     "metadata": {},
     "output_type": "display_data"
    }
   ],
   "source": [
    "import seaborn as sns\n",
    "import matplotlib.pyplot as plt\n",
    "\n",
    "sns.barplot(data=category_counts, x='AQI_Category', y='Days', palette='coolwarm')\n",
    "plt.title(\"Bengaluru AQI Category Distribution (Past Year)\")\n",
    "plt.xlabel(\"AQI Category\")\n",
    "plt.ylabel(\"Number of Days\")\n",
    "plt.show()\n"
   ]
  },
  {
   "cell_type": "code",
   "execution_count": 51,
   "id": "f33ccf95",
   "metadata": {},
   "outputs": [
    {
     "name": "stdout",
     "output_type": "stream",
     "text": [
      "           date  aqi_value  AQI_Category\n",
      "99   2025-04-30         84  Satisfactory\n",
      "245  2025-04-29         79  Satisfactory\n",
      "522  2025-04-28         76  Satisfactory\n",
      "713  2025-04-27         85  Satisfactory\n",
      "881  2025-04-26         87  Satisfactory\n",
      "1103 2025-04-25         85  Satisfactory\n",
      "1415 2025-04-24         88  Satisfactory\n",
      "1731 2025-04-23         86  Satisfactory\n",
      "1912 2025-04-22        114      Moderate\n",
      "2089 2025-04-21         71  Satisfactory\n",
      "2340 2025-04-20         72  Satisfactory\n",
      "2532 2025-04-19         79  Satisfactory\n",
      "2802 2025-04-18         77  Satisfactory\n",
      "2927 2025-04-17         76  Satisfactory\n",
      "3256 2025-04-16         87  Satisfactory\n",
      "3369 2025-04-15         99  Satisfactory\n",
      "3604 2025-04-14        109      Moderate\n",
      "3984 2025-04-13         90  Satisfactory\n",
      "4071 2025-04-12         80  Satisfactory\n",
      "4379 2025-04-11         78  Satisfactory\n"
     ]
    }
   ],
   "source": [
    "print(bengaluru_df[['date', 'aqi_value', 'AQI_Category']].head(20))\n",
    "\n"
   ]
  },
  {
   "cell_type": "code",
   "execution_count": 54,
   "id": "0b999d70",
   "metadata": {},
   "outputs": [],
   "source": [
    "category_counts.to_csv(\"bengaluru_aqi_summary.csv\", index=False)\n"
   ]
  },
  {
   "cell_type": "code",
   "execution_count": 55,
   "id": "f4841ec1",
   "metadata": {},
   "outputs": [],
   "source": [
    "import pandas as pd "
   ]
  },
  {
   "cell_type": "code",
   "execution_count": 61,
   "id": "3eeede9d",
   "metadata": {},
   "outputs": [],
   "source": [
    "aqi_df = pd.read_csv('../data/aqi.csv', parse_dates=['date'], dayfirst=True)\n",
    "health_df = pd.read_csv('../data/health.csv', encoding='latin1')\n",
    "\n"
   ]
  },
  {
   "cell_type": "code",
   "execution_count": 58,
   "id": "d67c5ffd",
   "metadata": {},
   "outputs": [
    {
     "name": "stdout",
     "output_type": "stream",
     "text": [
      "c:\\Users\\ASUS\\OneDrive\\Desktop\\AirPure_Project\\notebooks\n"
     ]
    }
   ],
   "source": [
    "import os\n",
    "print(os.getcwd())\n"
   ]
  },
  {
   "cell_type": "code",
   "execution_count": 64,
   "id": "42f20837",
   "metadata": {},
   "outputs": [],
   "source": [
    "latest_year = aqi_df['date'].dt.year.max()"
   ]
  },
  {
   "cell_type": "code",
   "execution_count": 68,
   "id": "19feb683",
   "metadata": {},
   "outputs": [],
   "source": [
    "past_3_years = [latest_year - i for i in range(3)]"
   ]
  },
  {
   "cell_type": "code",
   "execution_count": 69,
   "id": "d24aa6d2",
   "metadata": {},
   "outputs": [],
   "source": [
    "aqi_recent = aqi_df[aqi_df['date'].dt.year.isin(past_3_years)]\n",
    "health_recent = health_df[health_df['year'].isin(past_3_years)]\n"
   ]
  },
  {
   "cell_type": "code",
   "execution_count": 70,
   "id": "50eca33c",
   "metadata": {},
   "outputs": [
    {
     "ename": "KeyError",
     "evalue": "'disease'",
     "output_type": "error",
     "traceback": [
      "\u001b[31m---------------------------------------------------------------------------\u001b[39m",
      "\u001b[31mKeyError\u001b[39m                                  Traceback (most recent call last)",
      "\u001b[36mCell\u001b[39m\u001b[36m \u001b[39m\u001b[32mIn[70]\u001b[39m\u001b[32m, line 2\u001b[39m\n\u001b[32m      1\u001b[39m top_diseases = (\n\u001b[32m----> \u001b[39m\u001b[32m2\u001b[39m     \u001b[43mhealth_recent\u001b[49m\u001b[43m.\u001b[49m\u001b[43mgroupby\u001b[49m\u001b[43m(\u001b[49m\u001b[43m[\u001b[49m\u001b[33;43m'\u001b[39;49m\u001b[33;43mstate\u001b[39;49m\u001b[33;43m'\u001b[39;49m\u001b[43m,\u001b[49m\u001b[43m \u001b[49m\u001b[33;43m'\u001b[39;49m\u001b[33;43mdisease\u001b[39;49m\u001b[33;43m'\u001b[39;49m\u001b[43m]\u001b[49m\u001b[43m)\u001b[49m[\u001b[33m'\u001b[39m\u001b[33mtotal_cases\u001b[39m\u001b[33m'\u001b[39m]\n\u001b[32m      3\u001b[39m     .sum()\n\u001b[32m      4\u001b[39m     .reset_index()\n\u001b[32m      5\u001b[39m )\n",
      "\u001b[36mFile \u001b[39m\u001b[32mc:\\Users\\ASUS\\AppData\\Local\\Programs\\Python\\Python313\\Lib\\site-packages\\pandas\\core\\frame.py:9183\u001b[39m, in \u001b[36mDataFrame.groupby\u001b[39m\u001b[34m(self, by, axis, level, as_index, sort, group_keys, observed, dropna)\u001b[39m\n\u001b[32m   9180\u001b[39m \u001b[38;5;28;01mif\u001b[39;00m level \u001b[38;5;129;01mis\u001b[39;00m \u001b[38;5;28;01mNone\u001b[39;00m \u001b[38;5;129;01mand\u001b[39;00m by \u001b[38;5;129;01mis\u001b[39;00m \u001b[38;5;28;01mNone\u001b[39;00m:\n\u001b[32m   9181\u001b[39m     \u001b[38;5;28;01mraise\u001b[39;00m \u001b[38;5;167;01mTypeError\u001b[39;00m(\u001b[33m\"\u001b[39m\u001b[33mYou have to supply one of \u001b[39m\u001b[33m'\u001b[39m\u001b[33mby\u001b[39m\u001b[33m'\u001b[39m\u001b[33m and \u001b[39m\u001b[33m'\u001b[39m\u001b[33mlevel\u001b[39m\u001b[33m'\u001b[39m\u001b[33m\"\u001b[39m)\n\u001b[32m-> \u001b[39m\u001b[32m9183\u001b[39m \u001b[38;5;28;01mreturn\u001b[39;00m \u001b[43mDataFrameGroupBy\u001b[49m\u001b[43m(\u001b[49m\n\u001b[32m   9184\u001b[39m \u001b[43m    \u001b[49m\u001b[43mobj\u001b[49m\u001b[43m=\u001b[49m\u001b[38;5;28;43mself\u001b[39;49m\u001b[43m,\u001b[49m\n\u001b[32m   9185\u001b[39m \u001b[43m    \u001b[49m\u001b[43mkeys\u001b[49m\u001b[43m=\u001b[49m\u001b[43mby\u001b[49m\u001b[43m,\u001b[49m\n\u001b[32m   9186\u001b[39m \u001b[43m    \u001b[49m\u001b[43maxis\u001b[49m\u001b[43m=\u001b[49m\u001b[43maxis\u001b[49m\u001b[43m,\u001b[49m\n\u001b[32m   9187\u001b[39m \u001b[43m    \u001b[49m\u001b[43mlevel\u001b[49m\u001b[43m=\u001b[49m\u001b[43mlevel\u001b[49m\u001b[43m,\u001b[49m\n\u001b[32m   9188\u001b[39m \u001b[43m    \u001b[49m\u001b[43mas_index\u001b[49m\u001b[43m=\u001b[49m\u001b[43mas_index\u001b[49m\u001b[43m,\u001b[49m\n\u001b[32m   9189\u001b[39m \u001b[43m    \u001b[49m\u001b[43msort\u001b[49m\u001b[43m=\u001b[49m\u001b[43msort\u001b[49m\u001b[43m,\u001b[49m\n\u001b[32m   9190\u001b[39m \u001b[43m    \u001b[49m\u001b[43mgroup_keys\u001b[49m\u001b[43m=\u001b[49m\u001b[43mgroup_keys\u001b[49m\u001b[43m,\u001b[49m\n\u001b[32m   9191\u001b[39m \u001b[43m    \u001b[49m\u001b[43mobserved\u001b[49m\u001b[43m=\u001b[49m\u001b[43mobserved\u001b[49m\u001b[43m,\u001b[49m\n\u001b[32m   9192\u001b[39m \u001b[43m    \u001b[49m\u001b[43mdropna\u001b[49m\u001b[43m=\u001b[49m\u001b[43mdropna\u001b[49m\u001b[43m,\u001b[49m\n\u001b[32m   9193\u001b[39m \u001b[43m\u001b[49m\u001b[43m)\u001b[49m\n",
      "\u001b[36mFile \u001b[39m\u001b[32mc:\\Users\\ASUS\\AppData\\Local\\Programs\\Python\\Python313\\Lib\\site-packages\\pandas\\core\\groupby\\groupby.py:1329\u001b[39m, in \u001b[36mGroupBy.__init__\u001b[39m\u001b[34m(self, obj, keys, axis, level, grouper, exclusions, selection, as_index, sort, group_keys, observed, dropna)\u001b[39m\n\u001b[32m   1326\u001b[39m \u001b[38;5;28mself\u001b[39m.dropna = dropna\n\u001b[32m   1328\u001b[39m \u001b[38;5;28;01mif\u001b[39;00m grouper \u001b[38;5;129;01mis\u001b[39;00m \u001b[38;5;28;01mNone\u001b[39;00m:\n\u001b[32m-> \u001b[39m\u001b[32m1329\u001b[39m     grouper, exclusions, obj = \u001b[43mget_grouper\u001b[49m\u001b[43m(\u001b[49m\n\u001b[32m   1330\u001b[39m \u001b[43m        \u001b[49m\u001b[43mobj\u001b[49m\u001b[43m,\u001b[49m\n\u001b[32m   1331\u001b[39m \u001b[43m        \u001b[49m\u001b[43mkeys\u001b[49m\u001b[43m,\u001b[49m\n\u001b[32m   1332\u001b[39m \u001b[43m        \u001b[49m\u001b[43maxis\u001b[49m\u001b[43m=\u001b[49m\u001b[43maxis\u001b[49m\u001b[43m,\u001b[49m\n\u001b[32m   1333\u001b[39m \u001b[43m        \u001b[49m\u001b[43mlevel\u001b[49m\u001b[43m=\u001b[49m\u001b[43mlevel\u001b[49m\u001b[43m,\u001b[49m\n\u001b[32m   1334\u001b[39m \u001b[43m        \u001b[49m\u001b[43msort\u001b[49m\u001b[43m=\u001b[49m\u001b[43msort\u001b[49m\u001b[43m,\u001b[49m\n\u001b[32m   1335\u001b[39m \u001b[43m        \u001b[49m\u001b[43mobserved\u001b[49m\u001b[43m=\u001b[49m\u001b[38;5;28;43;01mFalse\u001b[39;49;00m\u001b[43m \u001b[49m\u001b[38;5;28;43;01mif\u001b[39;49;00m\u001b[43m \u001b[49m\u001b[43mobserved\u001b[49m\u001b[43m \u001b[49m\u001b[38;5;129;43;01mis\u001b[39;49;00m\u001b[43m \u001b[49m\u001b[43mlib\u001b[49m\u001b[43m.\u001b[49m\u001b[43mno_default\u001b[49m\u001b[43m \u001b[49m\u001b[38;5;28;43;01melse\u001b[39;49;00m\u001b[43m \u001b[49m\u001b[43mobserved\u001b[49m\u001b[43m,\u001b[49m\n\u001b[32m   1336\u001b[39m \u001b[43m        \u001b[49m\u001b[43mdropna\u001b[49m\u001b[43m=\u001b[49m\u001b[38;5;28;43mself\u001b[39;49m\u001b[43m.\u001b[49m\u001b[43mdropna\u001b[49m\u001b[43m,\u001b[49m\n\u001b[32m   1337\u001b[39m \u001b[43m    \u001b[49m\u001b[43m)\u001b[49m\n\u001b[32m   1339\u001b[39m \u001b[38;5;28;01mif\u001b[39;00m observed \u001b[38;5;129;01mis\u001b[39;00m lib.no_default:\n\u001b[32m   1340\u001b[39m     \u001b[38;5;28;01mif\u001b[39;00m \u001b[38;5;28many\u001b[39m(ping._passed_categorical \u001b[38;5;28;01mfor\u001b[39;00m ping \u001b[38;5;129;01min\u001b[39;00m grouper.groupings):\n",
      "\u001b[36mFile \u001b[39m\u001b[32mc:\\Users\\ASUS\\AppData\\Local\\Programs\\Python\\Python313\\Lib\\site-packages\\pandas\\core\\groupby\\grouper.py:1043\u001b[39m, in \u001b[36mget_grouper\u001b[39m\u001b[34m(obj, key, axis, level, sort, observed, validate, dropna)\u001b[39m\n\u001b[32m   1041\u001b[39m         in_axis, level, gpr = \u001b[38;5;28;01mFalse\u001b[39;00m, gpr, \u001b[38;5;28;01mNone\u001b[39;00m\n\u001b[32m   1042\u001b[39m     \u001b[38;5;28;01melse\u001b[39;00m:\n\u001b[32m-> \u001b[39m\u001b[32m1043\u001b[39m         \u001b[38;5;28;01mraise\u001b[39;00m \u001b[38;5;167;01mKeyError\u001b[39;00m(gpr)\n\u001b[32m   1044\u001b[39m \u001b[38;5;28;01melif\u001b[39;00m \u001b[38;5;28misinstance\u001b[39m(gpr, Grouper) \u001b[38;5;129;01mand\u001b[39;00m gpr.key \u001b[38;5;129;01mis\u001b[39;00m \u001b[38;5;129;01mnot\u001b[39;00m \u001b[38;5;28;01mNone\u001b[39;00m:\n\u001b[32m   1045\u001b[39m     \u001b[38;5;66;03m# Add key to exclusions\u001b[39;00m\n\u001b[32m   1046\u001b[39m     exclusions.add(gpr.key)\n",
      "\u001b[31mKeyError\u001b[39m: 'disease'"
     ]
    }
   ],
   "source": [
    "top_diseases = (\n",
    "    health_recent.groupby(['state', 'disease'])['total_cases']\n",
    "    .sum()\n",
    "    .reset_index()\n",
    ")\n",
    "\n"
   ]
  },
  {
   "cell_type": "code",
   "execution_count": null,
   "id": "a84bcbcc",
   "metadata": {},
   "outputs": [],
   "source": [
    " "
   ]
  }
 ],
 "metadata": {
  "kernelspec": {
   "display_name": "Python 3",
   "language": "python",
   "name": "python3"
  },
  "language_info": {
   "codemirror_mode": {
    "name": "ipython",
    "version": 3
   },
   "file_extension": ".py",
   "mimetype": "text/x-python",
   "name": "python",
   "nbconvert_exporter": "python",
   "pygments_lexer": "ipython3",
   "version": "3.13.3"
  }
 },
 "nbformat": 4,
 "nbformat_minor": 5
}
